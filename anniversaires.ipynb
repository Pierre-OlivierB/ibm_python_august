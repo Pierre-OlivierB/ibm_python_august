{
 "cells": [
  {
   "cell_type": "markdown",
   "id": "1eb50179",
   "metadata": {},
   "source": [
    "# Les anniversaires"
   ]
  },
  {
   "cell_type": "markdown",
   "id": "7afd215f",
   "metadata": {},
   "source": [
    "<center>\n",
    "<img src=\"./gateau.svg\" width=\"150\"/>\n",
    "</center>"
   ]
  },
  {
   "cell_type": "markdown",
   "id": "2016f086",
   "metadata": {},
   "source": [
    "Les pigeonniers (pigeons holes) : en considérant 366 jours du calendrier (avec le 29 février), si l'on considère 367 personnes, alors \"bien évidemment\", au moins deux personnes fêtent leur anniversaire le même jour)."
   ]
  },
  {
   "cell_type": "markdown",
   "id": "669b63e8",
   "metadata": {},
   "source": [
    "Quelle est la probabilité pour que 2 personnes choisies au hasard ne soient pas nées le même jour ?\n",
    "pour 3 personnes, 4 personnes,... \n",
    "\n",
    "On a deux possibilités : \n",
    "- simulation (on tire au sort des listes de dates de taille $n$), et on voit combien de fois on a (au moins) une date qui est sortie deux fois. \n",
    "- calcul direct des probabilités"
   ]
  },
  {
   "cell_type": "markdown",
   "id": "e4158df5",
   "metadata": {},
   "source": [
    "### 1. Simulation\n",
    "\n",
    "Le principe proposé est d'utiliser une liste de jours `j[]`, dans laquelle on peut ajouter des éléments (des jours, appelés 1, 2, 3,..  à 366) tirés au sort.  \n",
    "\n",
    "On regarde ensuite si cette liste contient des éléments identiques. \n"
   ]
  },
  {
   "cell_type": "code",
   "execution_count": 15,
   "id": "1fbac6af",
   "metadata": {},
   "outputs": [],
   "source": [
    "# liste de longueur 1  : tirage au sort d'un jour de l'année\n",
    "j = []\n",
    "\n",
    "import random\n",
    "n = 30\n",
    "for i in range(n):\n",
    "    j.append(random.randint(1,366))\n",
    "\n",
    "#print(j)\n",
    "#print(len(j))\n",
    "\n"
   ]
  },
  {
   "cell_type": "code",
   "execution_count": 16,
   "id": "d8936ed9",
   "metadata": {},
   "outputs": [
    {
     "name": "stdout",
     "output_type": "stream",
     "text": [
      "361\n",
      "361\n",
      "56\n",
      "56\n"
     ]
    }
   ],
   "source": [
    "for i in range(len(j)):\n",
    "    if j.count(j[i])>1:\n",
    "        print(j[i])"
   ]
  },
  {
   "cell_type": "markdown",
   "id": "840d671f",
   "metadata": {},
   "source": [
    "### Pour deux personnes : elles ne sont pas nées le même jour veut dire que dans le tableau j de taille 2 les éléments sont différents. \n",
    "\n",
    "Calculez avec une grande quantité d'essais (décidez combien), la probabilité que deux personnes prises au hasard soient nées le même jour.\n",
    "\n",
    "(d'abord, on tire 2 dates au sort et on teste si elles sont égales) "
   ]
  },
  {
   "cell_type": "code",
   "execution_count": null,
   "id": "c94c4bfb",
   "metadata": {},
   "outputs": [],
   "source": []
  },
  {
   "cell_type": "markdown",
   "id": "ac9f36f5",
   "metadata": {},
   "source": [
    "### Même chose pour 3 personnes : "
   ]
  },
  {
   "cell_type": "code",
   "execution_count": null,
   "id": "2b62f2e3",
   "metadata": {},
   "outputs": [],
   "source": []
  },
  {
   "cell_type": "markdown",
   "id": "17e8d5ad",
   "metadata": {},
   "source": [
    "## Généralisez pour un nombre quelconque de personnes"
   ]
  },
  {
   "cell_type": "code",
   "execution_count": null,
   "id": "7f7ad5de",
   "metadata": {},
   "outputs": [],
   "source": []
  },
  {
   "cell_type": "markdown",
   "id": "39f3d85f",
   "metadata": {},
   "source": [
    "# 2. Calcul des probabilités\n",
    "\n",
    "\n",
    "On va utiliser un calcul direct de probabilité (on pourra vérifier la conformité entre la simulation et le calcul pour 30 personnes, par exemple). \n",
    "\n",
    "Et pour finir le but est de tracer la courbe correspondante (probabilité pour qu'aucune personnes ne soient nées le même jour, en fonction de la taille du groupe de personnes). \n",
    "\n",
    "\n",
    "Le raisonnement est le suivant : \n",
    "\n",
    "- Il y a 365 possibilités sur 366 (lorsque l'on tire au sort le second jour de ne pas tomber sur le premier). La probabilité qu'elles ne soient pas nées le même jour est 365/366.\n",
    "\n",
    "\n",
    "- Pour trois personnes, la probabilité qu'aucune ne soit née le même jour, correspond au fait que les deux premières ne soient pas nées le même jour, et que la troisième soit née un des 364 jours restants (il y a pour cela 364 chances sur 366). \n",
    "\n",
    "- Pour quatre personnes : 365 choix pour la seconde, 364 pour la troisième, et 363 pour la quatrième et ainsi de suite\n",
    "\n",
    "On trouve donc que la probabilité pour qu'aucune parmi $n$ personnes ne soient nées le même jour est $(365/366)*(364/366)*(363/366)*... (366-n)/366$, tant que n < 367 (pour n = 366 on obtient 0 a cause du dernier terme)\n",
    "\n",
    "C'est donc cette formule qu'il faut calculer avec Python, et tracer avec matplotlib\n"
   ]
  },
  {
   "cell_type": "code",
   "execution_count": null,
   "id": "ef94bad3",
   "metadata": {},
   "outputs": [],
   "source": [
    "# on a préalablement fait le calcul pour N jours\n",
    "import matplotlib.pyplot as plt\n",
    "\n",
    "abcisses = [x for x in range(1,N)]\n",
    "ordonnees = probs\n",
    "\n",
    "fig, ax = plt.subplots()\n",
    "ax.plot(abcisses,ordonnees)\n",
    "\n",
    "ax.set(xlabel='Nombre de personnes', ylabel='Probabilité',\n",
    "       title=\"P(il n'y a pas deux personnes nées le même jour)\" )\n",
    "ax.grid()\n",
    "plt.show()"
   ]
  }
 ],
 "metadata": {
  "kernelspec": {
   "display_name": "Python 3 (ipykernel)",
   "language": "python",
   "name": "python3"
  },
  "language_info": {
   "codemirror_mode": {
    "name": "ipython",
    "version": 3
   },
   "file_extension": ".py",
   "mimetype": "text/x-python",
   "name": "python",
   "nbconvert_exporter": "python",
   "pygments_lexer": "ipython3",
   "version": "3.9.13"
  }
 },
 "nbformat": 4,
 "nbformat_minor": 5
}
