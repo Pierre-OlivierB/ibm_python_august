{
 "cells": [
  {
   "cell_type": "markdown",
   "metadata": {},
   "source": [
    "# Python : manipulation de strings \n",
    "\n",
    "## Code morse\n",
    "Jm.Torres, Janvier 2023"
   ]
  },
  {
   "cell_type": "markdown",
   "metadata": {},
   "source": [
    "### Nous allons programmer un convertisseur : texte <-> code morse \n",
    "\n",
    "Le code morse est défini par une séquence de \"points\" et de \"traits\" pour chaque lettre, comme le montre la figure. Ainsi la fameux message \"S.O.S\" (Save Our Souls) vaut : `... --- ...` \n",
    "\n",
    "On utilise aussi \"ti\" pour parler d'un point et \"ta\" pour un trait (alors SOS se dit : `ti-ti-ti--ta-ta-ta--ti-ti-ti`, notez les `--` pour figurer la séparation des lettres, et les `-` pour séparer les signes)\n",
    "\n",
    "<img src=\"morse.png\" alt=\"drawing\" width=\"350\"/>\n",
    "\n",
    "Pour ce qui nous concerne, nous avons des 0 et des 1, et nous allons coder comme ceci :\n",
    "\n",
    "- \"1\" pour un \"ti\" (point),\n",
    "- \"11\" pour un \"ta\" (trait), \n",
    "- \"0\" pour séparer deux signes (\"ta\" ou \"ti\"),\n",
    "- \"00\" pour séparer deux lettres,\n",
    "- \"000\" pour séparer deux mots. \n",
    "\n",
    "Par exemple, la chaine `code morse` devient :  `-.-. --- -.. .    -- --- .-. ... .`\n",
    "\n",
    "\n",
    "Et avec notre convention avec les 0 et les 1 : `110101101001101101100110101001000110110011011011001011010010101001000`\n",
    "\n",
    "\n"
   ]
  },
  {
   "cell_type": "markdown",
   "metadata": {},
   "source": [
    "On donne le dictionnaire M2A (morse to alphabet) et A2M (alphabet to morse) : \n"
   ]
  },
  {
   "cell_type": "code",
   "execution_count": 1,
   "metadata": {},
   "outputs": [],
   "source": [
    "M2A = { '.-':'a', '-...':'b', '-.-.':'c', '-..':'d', '.':'e', '..-.':'f', '--.':'g', \n",
    "     '....':'h', '..':'i', '.---':'j', '-.-':'k', '.-..':'l', '--':'m', '-.':'n',\n",
    "     '---':'o', '.--.':'p', '--.-':'q', '.-.':'r', '...':'s', '-':'t', '..-':'u',\n",
    "     '...-':'v', '.--':'w', '-..-':'x', '-.--':'y', '--..':'z', '.----':'1', \n",
    "     '..---':'2', '...--':'3', '....-':'4', '.....':'5', '-....':'6', '--...':'7',\n",
    "     '---..':'8', '----.':'9', '-----':'0', '--..--':',', '.-.-.-':'.', '..--..':'?',\n",
    "     '-..-.':'/', '-....-':'-', '--..--':',', '---...':':', '-.--.':'(', '-.--.-':')',\n",
    "     '..-..':'é','.--.-':'à', '-.-.--':'!'} \n",
    "\n",
    "A2M = { 'a':'.-', 'b':'-...', 'c':'-.-.', 'd':'-..', 'e':'.', \n",
    "        'f':'..-.', 'g':'--.', 'h':'....', 'i':'..', 'j':'.---', 'k':'-.-', \n",
    "        'l':'.-..', 'm':'--', 'n':'-.', 'o':'---', 'p':'.--.', 'q':'--.-', \n",
    "        'r':'.-.', 's':'...', 't':'-', 'u':'..-', 'v':'...-', 'w':'.--', \n",
    "        'x':'-..-', 'y':'-.--', 'z':'--..', '1':'.----', '2':'..---', \n",
    "        '3':'...--', '4':'....-', '5':'.....', '6':'-....', '7':'--...',\n",
    "        '8':'---..', '9':'----.', '0':'-----', ', ':'--..--', '.':'.-.-.-', \n",
    "        '?':'..--..', '/':'-..-.', '-':'-....-', ',':'--..--',':':'---...',\n",
    "        '(':'-.--.', ')':'-.--.-','é':'..-..','à':'.--.-', '!':'-.-.--'} "
   ]
  },
  {
   "cell_type": "markdown",
   "metadata": {},
   "source": [
    "# 1. Décoder du morse vers un texte en clair\n",
    "### On commence par \"séparer\" les \"mots\", c'est à dire les parties du message morse qui sont séparées par '000'. \n",
    "On peut utiliser la méthode `split` : appliquée à une chaine de caractères, elle renvoie la liste des chaines séparées, par défaut split utilise le caractère blanc/espace epour sépraere les mots, mais on peut spécifier le séparateur que l'on veut, exemples:"
   ]
  },
  {
   "cell_type": "code",
   "execution_count": 2,
   "metadata": {},
   "outputs": [
    {
     "name": "stdout",
     "output_type": "stream",
     "text": [
      "bonjour tout le monde -> ['bonjour', 'tout', 'le', 'monde']\n",
      "pommes,poires,fraises des bois,framboises -> ['pommes', 'poires', 'fraises des bois', 'framboises']\n"
     ]
    }
   ],
   "source": [
    "# exemples d'utilisation de '.split()'\n",
    "s = \"bonjour tout le monde\"\n",
    "mots = s.split()\n",
    "print(s, \"->\", mots)\n",
    "\n",
    "s = \"pommes,poires,fraises des bois,framboises\"\n",
    "fruits = s.split(\",\")\n",
    "print(s, \"->\", fruits)"
   ]
  },
  {
   "cell_type": "code",
   "execution_count": 145,
   "metadata": {},
   "outputs": [],
   "source": [
    "message = '110110010010110100110101101001010001011011010011011011001010110010110100010101011001101101100110010110100100010110011001100100110100110010100110110110011010011011010101101100011010110100100110001011001100100101101010010100100101101000100101010011000110110010110010100110100110010011010010110011010011000110010010110100110110010100110100101011010100110110101011011000110101010010110100101100101010110011011011000110101101011011'"
   ]
  },
  {
   "cell_type": "code",
   "execution_count": 146,
   "metadata": {},
   "outputs": [
    {
     "name": "stdout",
     "output_type": "stream",
     "text": [
      "110110010010110100110101101001010001011011010011011011001010110010110100010101011001101101100110010110100100010110011001100100110100110010100110110110011010011011010101101100011010110100100110001011001100100101101010010100100101101000100101010011000110110010110010100110100110010011010010110011010011000110010010110100110110010100110100101011010100110110101011011000110101010010110100101100101010110011011011000110101101011011 -> ['11011001001011010011010110100101', '10110110100110110110010101100101101', '101010110011011011001100101101001', '101100110011001001101001100101001101101100110100110110101011011', '1101011010010011', '1011001100100101101010010100100101101', '100101010011', '110110010110010100110100110010011010010110011010011', '110010010110100110110010100110100101011010100110110101011011', '110101010010110100101100101010110011011011', '110101101011011']\n"
     ]
    }
   ],
   "source": [
    "# afficher la liste des \"mots\" du message (séparés par 000)\n",
    "mes = message.split('000')\n",
    "print(message, \"->\",mes)"
   ]
  },
  {
   "cell_type": "code",
   "execution_count": 36,
   "metadata": {},
   "outputs": [],
   "source": [
    "# a présent pour chaque mot, afficher chaque lettre (les lettres sont séparées par \"00\")\n",
    "# par exemple '101101' est une lettre.\n",
    "#letters = []\n",
    "#for m in mes:\n",
    "#    letter  = m.split('00')\n",
    "#    letters.append(letter)\n",
    "#print(letters)"
   ]
  },
  {
   "cell_type": "code",
   "execution_count": 147,
   "metadata": {},
   "outputs": [
    {
     "name": "stdout",
     "output_type": "stream",
     "text": [
      "[['11', '11'], ['1'], ['1', '11', '1'], ['11', '1', '11', '1'], ['1', '1'], [' '], ['1', '11', '11', '1'], ['11', '11', '11'], ['1', '1', '11'], ['1', '11', '1'], [' '], ['1', '1', '1', '11'], ['11', '11', '11'], ['11'], ['1', '11', '1'], ['1'], [' '], ['1', '11'], ['11'], ['11'], ['1'], ['11', '1'], ['11'], ['1', '1'], ['11', '11', '11'], ['11', '1'], ['11', '11', '1', '1', '11', '11'], [' '], ['11', '1', '11', '1'], ['1'], ['11'], [' '], ['1', '11'], ['11'], ['1'], ['1', '11', '1', '1'], ['1', '1'], ['1'], ['1', '11', '1'], [' '], ['1'], ['1', '1', '1'], ['11'], [' '], ['11', '11'], ['1', '11'], ['1', '1'], ['11', '1'], ['11'], ['1'], ['11', '1'], ['1', '11'], ['11', '1'], ['11'], [' '], ['11'], ['1'], ['1', '11', '1'], ['11', '11'], ['1', '1'], ['11', '1'], ['1', '1', '11', '1', '1'], ['11', '11', '1', '1', '11', '11'], [' '], ['11', '1', '1', '1'], ['1', '11', '1'], ['1', '11'], ['1', '1', '1', '11'], ['11', '11', '11'], [' '], ['11', '1', '11', '1', '11', '11'], [' ']]\n",
      "[['11011', '1', '101101', '110101101', '101'], ' ', ['101101101', '11011011', '101011', '101101'], ' ', ['10101011', '11011011', '11', '101101', '1'], ' ', ['1011', '11', '11', '1', '1101', '11', '101', '11011011', '1101', '110110101011011'], ' ', ['110101101', '1', '11'], ' ', ['1011', '11', '1', '10110101', '101', '1', '101101'], ' ', ['1', '10101', '11'], ' ', ['11011', '1011', '101', '1101', '11', '1', '1101', '1011', '1101', '11'], ' ', ['11', '1', '101101', '11011', '101', '1101', '1010110101', '110110101011011'], ' ', ['11010101', '101101', '1011', '10101011', '11011011'], ' ', ['110101101011011'], ' ']\n"
     ]
    }
   ],
   "source": [
    "unit=[]\n",
    "letters = []\n",
    "for m in mes:\n",
    "    letter  = m.split('00')\n",
    "    letters.append(letter)\n",
    "    letters.append(' ')\n",
    "    #print(letters)\n",
    "for l in letters:\n",
    "    #print('ici',l)\n",
    "    for u in l:\n",
    "        #print('u',u)\n",
    "        un= u.split('0')\n",
    "        unit.append(un)\n",
    "print(unit)\n",
    "print(letters)"
   ]
  },
  {
   "cell_type": "code",
   "execution_count": 148,
   "metadata": {},
   "outputs": [
    {
     "name": "stdout",
     "output_type": "stream",
     "text": [
      "[['-', '-'], ['1'], ['1', '-', '1'], ['-', '1', '-', '1'], ['1', '1'], [' '], ['1', '-', '-', '1'], ['-', '-', '-'], ['1', '1', '-'], ['1', '-', '1'], [' '], ['1', '1', '1', '-'], ['-', '-', '-'], ['-'], ['1', '-', '1'], ['1'], [' '], ['1', '-'], ['-'], ['-'], ['1'], ['-', '1'], ['-'], ['1', '1'], ['-', '-', '-'], ['-', '1'], ['-', '-', '1', '1', '-', '-'], [' '], ['-', '1', '-', '1'], ['1'], ['-'], [' '], ['1', '-'], ['-'], ['1'], ['1', '-', '1', '1'], ['1', '1'], ['1'], ['1', '-', '1'], [' '], ['1'], ['1', '1', '1'], ['-'], [' '], ['-', '-'], ['1', '-'], ['1', '1'], ['-', '1'], ['-'], ['1'], ['-', '1'], ['1', '-'], ['-', '1'], ['-'], [' '], ['-'], ['1'], ['1', '-', '1'], ['-', '-'], ['1', '1'], ['-', '1'], ['1', '1', '-', '1', '1'], ['-', '-', '1', '1', '-', '-'], [' '], ['-', '1', '1', '1'], ['1', '-', '1'], ['1', '-'], ['1', '1', '1', '-'], ['-', '-', '-'], [' '], ['-', '1', '-', '1', '-', '-'], [' ']]\n"
     ]
    }
   ],
   "source": [
    "for code in unit:\n",
    "    for i in range(len(code)):\n",
    "        if code[i] =='11':\n",
    "            code[i]='-'\n",
    "print(unit)"
   ]
  },
  {
   "cell_type": "code",
   "execution_count": 149,
   "metadata": {},
   "outputs": [
    {
     "name": "stdout",
     "output_type": "stream",
     "text": [
      "[['-', '-'], ['.'], ['.', '-', '.'], ['-', '.', '-', '.'], ['.', '.'], [' '], ['.', '-', '-', '.'], ['-', '-', '-'], ['.', '.', '-'], ['.', '-', '.'], [' '], ['.', '.', '.', '-'], ['-', '-', '-'], ['-'], ['.', '-', '.'], ['.'], [' '], ['.', '-'], ['-'], ['-'], ['.'], ['-', '.'], ['-'], ['.', '.'], ['-', '-', '-'], ['-', '.'], ['-', '-', '.', '.', '-', '-'], [' '], ['-', '.', '-', '.'], ['.'], ['-'], [' '], ['.', '-'], ['-'], ['.'], ['.', '-', '.', '.'], ['.', '.'], ['.'], ['.', '-', '.'], [' '], ['.'], ['.', '.', '.'], ['-'], [' '], ['-', '-'], ['.', '-'], ['.', '.'], ['-', '.'], ['-'], ['.'], ['-', '.'], ['.', '-'], ['-', '.'], ['-'], [' '], ['-'], ['.'], ['.', '-', '.'], ['-', '-'], ['.', '.'], ['-', '.'], ['.', '.', '-', '.', '.'], ['-', '-', '.', '.', '-', '-'], [' '], ['-', '.', '.', '.'], ['.', '-', '.'], ['.', '-'], ['.', '.', '.', '-'], ['-', '-', '-'], [' '], ['-', '.', '-', '.', '-', '-'], [' ']]\n"
     ]
    }
   ],
   "source": [
    "for code in unit:\n",
    "    for i in range(len(code)):\n",
    "        if code[i] =='1':\n",
    "            code[i]='.'\n",
    "print(unit)"
   ]
  },
  {
   "cell_type": "code",
   "execution_count": 150,
   "metadata": {},
   "outputs": [
    {
     "name": "stdout",
     "output_type": "stream",
     "text": [
      "[' ']\n"
     ]
    }
   ],
   "source": [
    "print(unit[5])"
   ]
  },
  {
   "cell_type": "code",
   "execution_count": 151,
   "metadata": {},
   "outputs": [
    {
     "name": "stdout",
     "output_type": "stream",
     "text": [
      "['m', 'e', 'r', 'c', 'i', ' ', 'p', 'o', 'u', 'r', ' ', 'v', 'o', 't', 'r', 'e', ' ', 'a', 't', 't', 'e', 'n', 't', 'i', 'o', 'n', ',', ' ', 'c', 'e', 't', ' ', 'a', 't', 'e', 'l', 'i', 'e', 'r', ' ', 'e', 's', 't', ' ', 'm', 'a', 'i', 'n', 't', 'e', 'n', 'a', 'n', 't', ' ', 't', 'e', 'r', 'm', 'i', 'n', 'é', ',', ' ', 'b', 'r', 'a', 'v', 'o', ' ', '!', ' ']\n"
     ]
    }
   ],
   "source": [
    "test=''\n",
    "for i in range(len(unit)):\n",
    "    if unit[i]==[' ']:\n",
    "        unit[i]= ' '\n",
    "        #print(unit[i])\n",
    "    else :\n",
    "        unit[i]= test.join(unit[i])\n",
    "        unit[i]= M2A.get(unit[i])\n",
    "    #print(unit[i])\n",
    "    #tab=[]\n",
    "    #util = test.join(unit[i])\n",
    "    #print(util)\n",
    "    #tab.append(util)\n",
    "    #print(tab[0])\n",
    "    #unit[i] = tab[0]\n",
    "    #unit[i][0]= M2A.get(unit[i])\n",
    "#print(unit)\n",
    "print(unit)\n"
   ]
  },
  {
   "cell_type": "code",
   "execution_count": 84,
   "metadata": {},
   "outputs": [
    {
     "data": {
      "text/plain": [
       "'m'"
      ]
     },
     "execution_count": 84,
     "metadata": {},
     "output_type": "execute_result"
    }
   ],
   "source": [
    "M2A.get(unit[0])"
   ]
  },
  {
   "cell_type": "code",
   "execution_count": 152,
   "metadata": {},
   "outputs": [
    {
     "data": {
      "text/plain": [
       "'merci pour votre attention, cet atelier est maintenant terminé, bravo ! '"
      ]
     },
     "execution_count": 152,
     "metadata": {},
     "output_type": "execute_result"
    }
   ],
   "source": [
    "sentence = test.join(unit)\n",
    "sentence\n"
   ]
  },
  {
   "cell_type": "code",
   "execution_count": 21,
   "metadata": {},
   "outputs": [
    {
     "name": "stdout",
     "output_type": "stream",
     "text": [
      "[['11011', '1', '101101', '110101101', '101'], ['101101101', '11011011', '101011', '101101'], ['10101011', '11011011', '11', '101101', '1'], ['1011', '11', '11', '1', '1101', '11', '101', '11011011', '1101', '110110101011011'], ['110101101', '1', '11'], ['1011', '11', '1', '10110101', '101', '1', '101101'], ['1', '10101', '11'], ['11011', '1011', '101', '1101', '11', '1', '1101', '1011', '1101', '11'], ['11', '1', '101101', '11011', '101', '1101', '1010110101', '110110101011011'], ['11010101', '101101', '1011', '10101011', '11011011'], ['110101101011011']]\n"
     ]
    }
   ],
   "source": [
    "#letters = []\n",
    "#for m in mes:\n",
    "#    letter  = m.split('00')\n",
    "#    letters.append(letter)\n",
    "#    unit=[]\n",
    "#    for t in letter:\n",
    "#        u= t.split('0')\n",
    "#        unit.append(u)\n",
    "#print(letters)"
   ]
  },
  {
   "cell_type": "markdown",
   "metadata": {},
   "source": [
    "#### Pour finir, on va transformer chaque \"lettre\" dans la forme ti / ta ( . - ) : \n",
    "\n",
    "par exemple `11010101` donne `-...`\n",
    "Il faut donc séparer chaque lettre en signe (séparateur `0`) et tranformer les `1` en `.` et les `11` en `-`"
   ]
  },
  {
   "cell_type": "code",
   "execution_count": null,
   "metadata": {},
   "outputs": [],
   "source": [
    "# a / obtenir la liste des signes, comme précédemment, avec .split()\n",
    "mot = '11011001001011010011010110100101'\n",
    "\n",
    "# par exemple on obtient : \n",
    "#['11011', '1', '101101', '110101101', '101']  <- la liste des lettres\n",
    "#['11', '11']                                  <- les signes pour la première lettre\n",
    "#['1']                                         <- les signes pour la seconde lettre\n",
    "#['1', '11', '1']                              <- etc\n",
    "#['11', '1', '11', '1']                        <- ...\n",
    "#['1', '1']      "
   ]
  },
  {
   "cell_type": "code",
   "execution_count": null,
   "metadata": {},
   "outputs": [],
   "source": [
    "# b / pour une lettre (par exemple lettre = ['11', '11', '1', '1']) devient lettre = ['-', '-', '.', '.'])\n",
    "#     en replaçant les '1' par '.' et les '11' par '-'. , on peut utiliser str.replace(old,new)\n",
    "#     Attention: .replace() ne s'applique pas à une liste emais à ces strings.\n",
    "lettre = ['11', '11', '1', '1']"
   ]
  },
  {
   "cell_type": "code",
   "execution_count": null,
   "metadata": {},
   "outputs": [],
   "source": [
    "# on va maintenant former la lettre morse : ['-', '-', '.', '.'] devient '--..'\n",
    "s = \"\""
   ]
  },
  {
   "cell_type": "code",
   "execution_count": null,
   "metadata": {},
   "outputs": [],
   "source": [
    "# Il reste à interroger le dictionnaire M2A avec la clef `--..` pour obtenir la lettre de l'alaphabet\n",
    "l = M2A.get(s)\n",
    "print(l)"
   ]
  },
  {
   "cell_type": "code",
   "execution_count": null,
   "metadata": {},
   "outputs": [],
   "source": [
    "# il reste à assemble maintenant les lettres dans les mots et les mots dans la phrase \n",
    "# en réutilisant tous les codes obtenus ci-dessus.  "
   ]
  },
  {
   "cell_type": "code",
   "execution_count": null,
   "metadata": {},
   "outputs": [],
   "source": [
    "message = '110110010010110100110101101001010001011011010011011011001010110010110100010101011001101101100110010110100100010110011001100100110100110010100110110110011010011011010101101100011010110100100110001011001100100101101010010100100101101000100101010011000110110010110010100110100110010011010010110011010011000110010010110100110110010100110100101011010100110110101011011000110101010010110100101100101010110011011011000110101101011011000'\n"
   ]
  },
  {
   "cell_type": "markdown",
   "metadata": {},
   "source": [
    "# 2. Coder un texte en clair vers un message en morse\n",
    "\n",
    "### La démarche est tout à fait similaire, on sépare le texte en mots, les mots en lettres, on utilise le dictionnaire pour obtenir les lettre en morse,  on transforme en 1 et 11, on assemble avec les 0, 00, 000"
   ]
  },
  {
   "cell_type": "code",
   "execution_count": null,
   "metadata": {},
   "outputs": [],
   "source": [
    "texte = \"bonjour tout le monde\""
   ]
  },
  {
   "cell_type": "code",
   "execution_count": null,
   "metadata": {},
   "outputs": [],
   "source": [
    "# séparer le texte en mots"
   ]
  },
  {
   "cell_type": "code",
   "execution_count": null,
   "metadata": {},
   "outputs": [],
   "source": [
    "# séparer le texte en mots et les mots en lettres      "
   ]
  },
  {
   "cell_type": "code",
   "execution_count": null,
   "metadata": {},
   "outputs": [],
   "source": [
    "# séparer le texte en mots et les mots en lettres, chercher les caractères en morse"
   ]
  },
  {
   "cell_type": "code",
   "execution_count": null,
   "metadata": {},
   "outputs": [],
   "source": [
    "# séparer le texte en mots et les mots en lettres, chercher les caractères en morse\n",
    "# et cumuler"
   ]
  }
 ],
 "metadata": {
  "kernelspec": {
   "display_name": "Python 3 (ipykernel)",
   "language": "python",
   "name": "python3"
  },
  "language_info": {
   "codemirror_mode": {
    "name": "ipython",
    "version": 3
   },
   "file_extension": ".py",
   "mimetype": "text/x-python",
   "name": "python",
   "nbconvert_exporter": "python",
   "pygments_lexer": "ipython3",
   "version": "3.9.13"
  }
 },
 "nbformat": 4,
 "nbformat_minor": 4
}
